{
 "cells": [
  {
   "attachments": {},
   "cell_type": "markdown",
   "id": "a7bab2ba-f93d-468b-afca-b8d5e45af656",
   "metadata": {},
   "source": [
    "# Vector Database\n",
    "\n",
    "https://docs.trychroma.com/\n",
    "\n",
    "We use Chroma db as our vector database to store embeddings.\n",
    "\n",
    "Chroma is the open-source embedding database. Chroma makes it easy to build LLM apps by making knowledge, facts, and skills pluggable for LLMs.\n",
    "\n",
    "<img src=\"./images/chromadb_intro.svg\" width=\"600\">\n",
    "\n",
    "**We use chroma db mainly for:**\n",
    "\n",
    "- storing embeddings and their metadata\n",
    "- searching embeddings\n"
   ]
  },
  {
   "attachments": {},
   "cell_type": "markdown",
   "id": "a0ba430f-641e-40fd-93d2-586dddb66eba",
   "metadata": {},
   "source": [
    "**Please go through the `create_vector_db.py` file and see how we can load our embeddings into a vector database.**"
   ]
  },
  {
   "cell_type": "code",
   "execution_count": null,
   "id": "68f9a8b7-c7fb-474a-a562-02003f036bfb",
   "metadata": {},
   "outputs": [],
   "source": [
    "%%time\n",
    "!python3 ../scripts/create_vector_db.py"
   ]
  }
 ],
 "metadata": {
  "kernelspec": {
   "display_name": "Python 3 (ipykernel)",
   "language": "python",
   "name": "python3"
  },
  "language_info": {
   "codemirror_mode": {
    "name": "ipython",
    "version": 3
   },
   "file_extension": ".py",
   "mimetype": "text/x-python",
   "name": "python",
   "nbconvert_exporter": "python",
   "pygments_lexer": "ipython3",
   "version": "3.10.13"
  }
 },
 "nbformat": 4,
 "nbformat_minor": 5
}
