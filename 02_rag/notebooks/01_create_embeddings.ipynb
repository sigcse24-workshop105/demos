{
 "cells": [
  {
   "cell_type": "markdown",
   "id": "e1f7fc0f-8b9c-4983-981e-e9fc2af66a34",
   "metadata": {},
   "source": [
    "# Embedding Video Caption Text for Search\n",
    "\n",
    "## What are embeddings?\n",
    "\n",
    "OpenAI’s text embeddings measure the relatedness of text strings. Embeddings are commonly used for:\n",
    "\n",
    "- **Search (where results are ranked by relevance to a query string)**\n",
    "- Recommendations (where items with related text strings are recommended)\n",
    "- Clustering (where text strings are grouped by similarity)\n",
    "- Anomaly detection (where outliers with little relatedness are identified)\n",
    "- Diversity measurement (where similarity distributions are analyzed)\n",
    "- Classification (where text strings are classified by their most similar label)\n",
    "\n",
    "An embedding is a vector (list) of floating point numbers. The distance between two vectors measures their relatedness.\n",
    "\n",
    "**Small distances suggest high relatedness and large distances suggest low relatedness.**\n",
    "\n",
    "https://platform.openai.com/docs/guides/embeddings/what-are-embeddings\n",
    "\n",
    "https://github.com/openai/openai-cookbook/blob/main/examples/Embedding_Wikipedia_articles_for_search.ipynb"
   ]
  },
  {
   "cell_type": "markdown",
   "id": "da928890-748e-4486-8969-398b80e064ee",
   "metadata": {},
   "source": [
    "## Motivation\n",
    "\n",
    "Previously, we proposed integrating lecture-specific information with a student's question to ensure that GPT's responses are contextualized accurately. We can achieve this by creating embeddings from all CS50 video captions, say from 2022, and retrieving relevant information based on these embeddings. The top N results, as determined by the shortest distance to the question, will then be incorporated into our few-shot prompting approach."
   ]
  },
  {
   "cell_type": "markdown",
   "id": "ff196e8c-953f-4800-8139-b98d1bf65c64",
   "metadata": {},
   "source": [
    "## SRT Preprocessing\n",
    "\n",
    "The following demonstrates one possible data processing pipeline to create embeddings from raw SRT files.\n",
    "\n",
    "The end result is a JSONL document containing hundreds of thousands of JSON documents. Each document represents a fraction of the lecture caption text, its corresponding embeddings, and useful metadata (e.g., week number, YouTube video ID, etc.). This JSONL document will eventually be loaded into a vector database."
   ]
  },
  {
   "cell_type": "code",
   "execution_count": 1,
   "id": "58102ceb-f829-4635-af07-420cd9e9f9c7",
   "metadata": {},
   "outputs": [],
   "source": [
    "import json\n",
    "import openai\n",
    "import os\n",
    "import tiktoken"
   ]
  },
  {
   "cell_type": "code",
   "execution_count": 2,
   "id": "055c7bda-e64a-4ab7-8efd-746f9d734388",
   "metadata": {},
   "outputs": [],
   "source": [
    "SRT_FILES = {\n",
    "    \"lecture0\": { \"video_name\": \"Week 0\", \"youtube_id\": \"IDDmrzzB14M\" },\n",
    "    \"lecture1\": { \"video_name\": \"Week 1\", \"youtube_id\": \"ywg7cW0Txs4\" },\n",
    "    \"lecture2\": { \"video_name\": \"Week 2\", \"youtube_id\": \"XmYnsO7iSI8\" },\n",
    "    \"lecture3\": { \"video_name\": \"Week 3\", \"youtube_id\": \"4oqjcKenCH8\" },\n",
    "    \"lecture4\": { \"video_name\": \"Week 4\", \"youtube_id\": \"AcWIE9qazLI\" },\n",
    "    \"lecture5\": { \"video_name\": \"Week 5\", \"youtube_id\": \"X8h4dq9Hzq8\" },\n",
    "    \"lecture6\": { \"video_name\": \"Week 6\", \"youtube_id\": \"5Jppcxc1Qzc\" },\n",
    "    \"lecture7\": { \"video_name\": \"Week 7\", \"youtube_id\": \"zrCLRC3Ci1c\" },\n",
    "    \"lecture8\": { \"video_name\": \"Week 8\", \"youtube_id\": \"alnzFK-4xMY\" },\n",
    "    \"lecture9\": { \"video_name\": \"Week 9\", \"youtube_id\": \"oVA0fD13NGI\" },\n",
    "    \"lecture10\": { \"video_name\": \"Week 10\", \"youtube_id\": \"iXG0sXlzuF0\" },\n",
    "    \"cybersecurity\": { \"video_name\": \"Cybersecurity\", \"youtube_id\": \"Kuy4cEXpXEE\" },\n",
    "    \"section1\": { \"video_name\": \"Section 1\", \"youtube_id\": \"EDHpBJNi6KY\" },\n",
    "    \"section2\": { \"video_name\": \"Section 2\", \"youtube_id\": \"FxPHywzblfo\" },\n",
    "    \"section3\": { \"video_name\": \"Section 3\", \"youtube_id\": \"djmUUa6srSY\" },\n",
    "    \"section4\": { \"video_name\": \"Section 4\", \"youtube_id\": \"5aCAQyH-sko\" },\n",
    "    \"section5\": { \"video_name\": \"Section 5\", \"youtube_id\": \"2Og20w6uQTs\" },\n",
    "    \"section6\": { \"video_name\": \"Section 6\", \"youtube_id\": \"2MowgKc_anU\" },\n",
    "    \"section7\": { \"video_name\": \"Section 7\", \"youtube_id\": \"InnVHzZeG7I\" },\n",
    "    \"section8\": { \"video_name\": \"Section 8\", \"youtube_id\": \"Wja6Ng4UXA\" },\n",
    "    \"section9\": { \"video_name\": \"Section 9\", \"youtube_id\": \"RmcIhrBN0m0\" },\n",
    "    \"mario-less\": { \"video_name\": \"Mario (Less Comfortable)\", \"youtube_id\": \"NAs4FIWkJ4s\" },\n",
    "    \"mario-more\": { \"video_name\": \"Mario (More Comfortable)\", \"youtube_id\": \"FzN9RAjYG_Q\" },\n",
    "    \"cash\": { \"video_name\": \"Cash\", \"youtube_id\": \"Y3nWGvqt_Cg\" },\n",
    "    \"credit\": { \"video_name\": \"Credit\", \"youtube_id\": \"dF7wNjsRBjI\" },\n",
    "    \"readability\": { \"video_name\": \"Readability\", \"youtube_id\": \"AOVyZEh9zgE\" },\n",
    "    \"caesar\": { \"video_name\": \"Caesar\", \"youtube_id\": \"V2uusmv2wxI\" },\n",
    "    \"substitution\": { \"video_name\": \"Substitution\", \"youtube_id\": \"cXAoZAsgxJ4\" },\n",
    "    \"plurality\": { \"video_name\": \"Plurality\", \"youtube_id\": \"ftOapzDjEb8\" },\n",
    "    \"runoff\": { \"video_name\": \"Runoff\", \"youtube_id\": \"-Vc5aGywKxo\" },\n",
    "    \"tideman\": { \"video_name\": \"Tideman\", \"youtube_id\": \"kb83NwyYI68\" },\n",
    "    \"filter-less-intro\": { \"video_name\": \"Filter (Less Comfortable)\", \"youtube_id\": \"K0v9byp9jd0\" },\n",
    "    \"filter-more-intro\": { \"video_name\": \"Filter (More Comfortable)\", \"youtube_id\": \"vsOsctDernw\" },\n",
    "    \"filter-less-blur\": { \"video_name\": \"Filter / Blur (Less Comfortable)\", \"youtube_id\": \"6opWB7DaFCY\" },\n",
    "    \"filter-more-blur\": { \"video_name\": \"Filter / Blur (More Comfortable)\", \"youtube_id\": \"dxNO-hCjT0w\" },\n",
    "    \"filter-grayscale\": { \"video_name\": \"Filter / Grayscale\", \"youtube_id\": \"A8LA2osnAwM\" },\n",
    "    \"filter-sepia\": { \"video_name\": \"Filter / Sepia\", \"youtube_id\": \"m0_vouQLufc\" },\n",
    "    \"filter-reflect\": { \"video_name\": \"Filter / Reflect\", \"youtube_id\": \"dlWpx8gQdFo\" },\n",
    "    \"speller\": { \"video_name\": \"Speller\", \"youtube_id\": \"_z57x5PGF4w\" },\n",
    "    \"speller-load\": { \"video_name\": \"Speller / Load\", \"youtube_id\": \"-BX4wLZRwbc\" },\n",
    "    \"speller-hash\": { \"video_name\": \"Speller / Hash\", \"youtube_id\": \"aFe05MQ56Rc\" },\n",
    "    \"speller-size\": { \"video_name\": \"Speller / Size\", \"youtube_id\": \"3cD-_NGTw9A\" },\n",
    "    \"speller-check\": { \"video_name\": \"Speller / Check\", \"youtube_id\": \"qPz_Mr69yE0\" },\n",
    "    \"speller-unload\": { \"video_name\": \"Speller / Unload\", \"youtube_id\": \"qkC4l0pUvCk\" },\n",
    "    \"dna\": { \"video_name\": \"DNA\", \"youtube_id\": \"j84b_EgntcQ\" },\n",
    "    \"movies\": { \"video_name\": \"Movies\", \"youtube_id\": \"v5_A3giDlQs\" },\n",
    "    \"fiftyville\": { \"video_name\": \"Fiftyville\", \"youtube_id\": \"x7Q8tJMi7cQ\" },\n",
    "    \"finance\": { \"video_name\": \"Finance\", \"youtube_id\": \"7wPTAwT-6bA\" }\n",
    "}"
   ]
  },
  {
   "cell_type": "markdown",
   "id": "44e04c8c-792c-4deb-9df2-bf07747d42e4",
   "metadata": {},
   "source": [
    "Let's first take a look at what the SRT file looks like.\n",
    "\n",
    "https://www.3playmedia.com/blog/create-srt-file/"
   ]
  },
  {
   "cell_type": "code",
   "execution_count": 3,
   "id": "c8139acb-dad7-4ec6-97bf-8f56267f7f14",
   "metadata": {},
   "outputs": [
    {
     "name": "stdout",
     "output_type": "stream",
     "text": [
      "1\n",
      "00:00:00,000 --> 00:00:02,988\n",
      "\n",
      "\n",
      "2\n",
      "00:00:02,988 --> 00:00:06,474\n",
      "[MUSIC PLAYING]\n",
      "\n",
      "3\n",
      "00:00:06,474 --> 00:01:13,310\n",
      "\n",
      "\n",
      "4\n",
      "00:01:13,310 --> 00:01:15,260\n",
      "DAVID J. MALAN: All right.\n",
      "\n",
      "5\n",
      "00:01:15,260 --> 00:01:19,220\n",
      "This is CS50, Harvard\n",
      "University's introduction\n",
      "\n",
      "6\n",
      "00:01:19,220 --> 00:01:21,560\n",
      "to the intellectual\n",
      "enterprises of computer science\n",
      "\n",
      "7\n",
      "00:01:21,560 --> 00:01:22,940\n",
      "and the arts of programming.\n",
      "\n"
     ]
    }
   ],
   "source": [
    "with open(\"../data/caption_srts/cs50-2022/lecture0.srt\") as f:\n",
    "    print(\"\\n\".join(f.read().splitlines()[:30]))"
   ]
  },
  {
   "cell_type": "markdown",
   "id": "adb68e8c-33ba-4e2c-a2af-8d631da284c7",
   "metadata": {},
   "source": [
    "**Here are a few things to pay attention:**\n",
    "\n",
    "1. We want to convert all time code to seconds.\n",
    "2. We want to attach metadata for each line of the caption text for later use.\n",
    "3. We would want to remove the speaker name from the caption text."
   ]
  },
  {
   "cell_type": "code",
   "execution_count": 4,
   "id": "79661f05-4960-4609-84f3-34492f8802fe",
   "metadata": {},
   "outputs": [],
   "source": [
    "def parse_timecode(timecode):\n",
    "    \"\"\"parse hh:mm:ss,mmm to seconds\"\"\"\n",
    "    timecode = timecode.split(\":\")\n",
    "    timecode = int(timecode[0]) * 3600 + int(timecode[1]) * 60 + float(timecode[2].replace(\",\", \".\"))\n",
    "    return round(timecode)"
   ]
  },
  {
   "cell_type": "code",
   "execution_count": 5,
   "id": "b2cddaf8-6939-40f8-aa79-bbfd55106928",
   "metadata": {},
   "outputs": [
    {
     "name": "stdout",
     "output_type": "stream",
     "text": [
      "Total caption text for Week 0: 2971\n",
      "Total caption text for Week 1: 3246\n"
     ]
    },
    {
     "name": "stdout",
     "output_type": "stream",
     "text": [
      "Total caption text for Week 2: 3026\n",
      "Total caption text for Week 3: 2684\n",
      "Total caption text for Week 4: 3330\n",
      "Total caption text for Week 5: 3009\n",
      "Total caption text for Week 6: 2920\n",
      "Total caption text for Week 7: 2953\n",
      "Total caption text for Week 8: 3351\n",
      "Total caption text for Week 9: 2864\n",
      "Total caption text for Week 10: 2215\n",
      "Total caption text for Cybersecurity: 976\n",
      "Total caption text for Section 1: 1104\n",
      "Total caption text for Section 2: 1158\n",
      "Total caption text for Section 3: 1264\n",
      "Total caption text for Section 4: 1061\n",
      "Total caption text for Section 5: 1222\n",
      "Total caption text for Section 6: 1043\n",
      "Total caption text for Section 7: 1406\n",
      "Total caption text for Section 8: 1126\n",
      "Total caption text for Section 9: 1138\n",
      "Total caption text for Mario (Less Comfortable): 217\n",
      "Total caption text for Mario (More Comfortable): 95\n",
      "Total caption text for Cash: 156\n",
      "Total caption text for Credit: 90\n",
      "Total caption text for Readability: 147\n",
      "Total caption text for Caesar: 272\n",
      "Total caption text for Substitution: 143\n",
      "Total caption text for Plurality: 124\n",
      "Total caption text for Runoff: 355\n",
      "Total caption text for Tideman: 353\n",
      "Total caption text for Filter (Less Comfortable): 132\n",
      "Total caption text for Filter (More Comfortable): 130\n",
      "Total caption text for Filter / Blur (Less Comfortable): 91\n",
      "Total caption text for Filter / Blur (More Comfortable): 89\n",
      "Total caption text for Filter / Grayscale: 87\n",
      "Total caption text for Filter / Sepia: 77\n",
      "Total caption text for Filter / Reflect: 39\n",
      "Total caption text for Speller: 46\n",
      "Total caption text for Speller / Load: 11\n",
      "Total caption text for Speller / Hash: 71\n",
      "Total caption text for Speller / Size: 11\n",
      "Total caption text for Speller / Check: 81\n",
      "Total caption text for Speller / Unload: 96\n",
      "Total caption text for DNA: 161\n",
      "Total caption text for Movies: 212\n",
      "Total caption text for Fiftyville: 133\n",
      "Total caption text for Finance: 386\n"
     ]
    }
   ],
   "source": [
    "jsonl_document = []\n",
    "for lecture in SRT_FILES:\n",
    "\n",
    "    with open(f\"../data/caption_srts/cs50-2022/{lecture}.srt\") as f:\n",
    "\n",
    "        # remove doule empty lines and split lines based on empty line\n",
    "        lines = f.read()\n",
    "        lines = lines.replace(\"\\n\\n\\n\", \"\\n\\n\")\n",
    "        lines = lines.split(\"\\n\\n\")\n",
    "\n",
    "        total_lines = len(lines)\n",
    "        print(f\"Total caption text for {SRT_FILES[lecture]['video_name']}: {total_lines}\")\n",
    "\n",
    "        for line in lines:\n",
    "\n",
    "            # remove SRT sequence number and skip empty lines\n",
    "            line = line.split(\"\\n\")[1:]\n",
    "\n",
    "            if (len(line) < 2):\n",
    "                continue\n",
    "\n",
    "            # remove speaker name\n",
    "            if (\"DAVID MALAN:\" in line[1].upper()):\n",
    "                line[1] = line[1].replace(\"DAVID MALAN:\", \"\")\n",
    "\n",
    "            # create JSON document\n",
    "            video_name = SRT_FILES[lecture][\"video_name\"]\n",
    "            youtube_id = SRT_FILES[lecture][\"youtube_id\"]\n",
    "            start_time = line[0].split(\" --> \")[0]\n",
    "            end_time = line[0].split(\" --> \")[1]\n",
    "\n",
    "            metadata = {}\n",
    "            metadata[\"week\"] = video_name\n",
    "            metadata[\"youtube_id\"] = youtube_id\n",
    "            metadata[\"start\"] = parse_timecode(start_time)\n",
    "            metadata[\"end\"] = parse_timecode(end_time)\n",
    "\n",
    "            json_doc = {}\n",
    "            json_doc[\"text\"] = (\" \").join(line[1:]).strip()\n",
    "            json_doc[\"metadata\"] = metadata\n",
    "\n",
    "            # skip empty caption text\n",
    "            if (json_doc[\"text\"] == \"\"):\n",
    "                continue\n",
    "\n",
    "            # add to JSONL document\n",
    "            jsonl_document.append(json_doc)"
   ]
  },
  {
   "cell_type": "markdown",
   "id": "c6121d8f-589b-4757-ac49-00933d3186b2",
   "metadata": {},
   "source": [
    "**Let's take a look at what this JSONL document looks like:**"
   ]
  },
  {
   "cell_type": "code",
   "execution_count": 6,
   "id": "a6cf5b9d-7290-4d52-bf20-2c1925cf7503",
   "metadata": {},
   "outputs": [
    {
     "name": "stdout",
     "output_type": "stream",
     "text": [
      "Total caption text in JSONL document: 47201\n",
      "\n",
      "First 10 line(s) of JSONL document:\n",
      "1: {'text': '[MUSIC PLAYING]', 'metadata': {'week': 'Week 0', 'youtube_id': 'IDDmrzzB14M', 'start': 3, 'end': 6}}\n",
      "2: {'text': 'DAVID J. MALAN: All right.', 'metadata': {'week': 'Week 0', 'youtube_id': 'IDDmrzzB14M', 'start': 73, 'end': 75}}\n",
      "3: {'text': \"This is CS50, Harvard University's introduction\", 'metadata': {'week': 'Week 0', 'youtube_id': 'IDDmrzzB14M', 'start': 75, 'end': 79}}\n",
      "4: {'text': 'to the intellectual enterprises of computer science', 'metadata': {'week': 'Week 0', 'youtube_id': 'IDDmrzzB14M', 'start': 79, 'end': 82}}\n",
      "5: {'text': 'and the arts of programming.', 'metadata': {'week': 'Week 0', 'youtube_id': 'IDDmrzzB14M', 'start': 82, 'end': 83}}\n",
      "6: {'text': 'My name is David Malan, and I actually took this course myself, back in 1996.', 'metadata': {'week': 'Week 0', 'youtube_id': 'IDDmrzzB14M', 'start': 83, 'end': 88}}\n",
      "7: {'text': 'I was a sophomore at the time.', 'metadata': {'week': 'Week 0', 'youtube_id': 'IDDmrzzB14M', 'start': 88, 'end': 89}}\n",
      "8: {'text': 'I was actually concentrating in government, because a year prior,', 'metadata': {'week': 'Week 0', 'youtube_id': 'IDDmrzzB14M', 'start': 89, 'end': 92}}\n",
      "9: {'text': \"as a first year, I'd come into Harvard thinking\", 'metadata': {'week': 'Week 0', 'youtube_id': 'IDDmrzzB14M', 'start': 92, 'end': 95}}\n",
      "10: {'text': 'that I liked history and constitutional law and similar classes in high school.', 'metadata': {'week': 'Week 0', 'youtube_id': 'IDDmrzzB14M', 'start': 95, 'end': 100}}\n"
     ]
    }
   ],
   "source": [
    "print(f\"Total caption text in JSONL document: {len(jsonl_document)}\", end=\"\\n\\n\")\n",
    "\n",
    "preview_lines = 10\n",
    "print(f\"First {preview_lines} line(s) of JSONL document:\")\n",
    "for index, each in enumerate(jsonl_document[:preview_lines]):\n",
    "    print(f\"{index + 1}:\", each)"
   ]
  },
  {
   "cell_type": "markdown",
   "id": "ba98f32d-9097-40ed-a41d-811d6a56e8a9",
   "metadata": {},
   "source": [
    "**Each line of the JSONL document is a valid JSON file containing lecture caption text, start/end time, YouTube video ID, and week name.**"
   ]
  },
  {
   "cell_type": "code",
   "execution_count": 7,
   "id": "2cdd43b6-4fb1-4c3d-afdf-ae45088d565b",
   "metadata": {},
   "outputs": [],
   "source": [
    "# create processed_data directory if needed\n",
    "if not os.path.exists(\"../data/processed_data\"):\n",
    "    os.makedirs(\"../data/processed_data\")\n",
    "\n",
    "# save to JSONL file\n",
    "with open(\"../data/processed_data/lectures_2022_raw.jsonl\", \"w\") as f:\n",
    "    for chunk in jsonl_document:\n",
    "        f.write(f\"{json.dumps(chunk)}\\n\")"
   ]
  },
  {
   "cell_type": "markdown",
   "id": "f259e7de-fa68-4cce-a8c1-7c0df3c3f26a",
   "metadata": {},
   "source": [
    "## Merge caption texts to span a longer duration\n",
    "\n",
    "### Motivation\n",
    "\n",
    "Caption text serves as a subtitle for videos, typically spanning just a few seconds to ensure readability during video playback. However, this feature doesn't significantly aid in embedding search.\n",
    "\n",
    "Consider the search results in this context; you'd likely find more fragmented pieces of caption text rather than complete sentences. These fragments often lack the necessary contextual information, rendering them not particularly helpful.\n",
    "\n",
    "To enhance search capabilities and offer a more valuable context, we aim to decrease this granularity (e.g., increase the duration for which the caption text appears)."
   ]
  },
  {
   "cell_type": "markdown",
   "id": "f93084dd-d0c2-429a-8ace-fb9f3452971a",
   "metadata": {},
   "source": [
    "**We need to strike a balance in picking the optimal duration so it doesn't result in too many caption texts per JSON document**"
   ]
  },
  {
   "cell_type": "code",
   "execution_count": 8,
   "id": "19c299ac-4ab7-44fd-a89d-fbc4916ca1bf",
   "metadata": {},
   "outputs": [],
   "source": [
    "# we merge caption texts to form a new caption text that spans around 30 seconds\n",
    "SPAN_THRESHOLD = 30 "
   ]
  },
  {
   "cell_type": "code",
   "execution_count": 9,
   "id": "776c644d-ea33-4fc4-9298-1554b39cfece",
   "metadata": {},
   "outputs": [],
   "source": [
    "# open JSONL file\n",
    "jsonl_document = []\n",
    "with open('../data/processed_data/lectures_2022_raw.jsonl', 'r') as f:\n",
    "    for line in f:\n",
    "        jsonl_document.append(json.loads(line))\n",
    "\n",
    "# for each json document, merge the subtitles into one string into 30 seconds chunks\n",
    "new_jsonl_document = []\n",
    "total_documents = len(jsonl_document)\n",
    "span = 0\n",
    "running_counter = 0\n",
    "current_pointer = 0\n",
    "\n",
    "while True:\n",
    "\n",
    "    # if we are at the end of the file, break\n",
    "    if (current_pointer + running_counter + 1 > total_documents):\n",
    "        break\n",
    "\n",
    "    # calculate the span between the current document and the next document\n",
    "    if (span < 0):\n",
    "        print(\"ERROR: span is less than 0\")\n",
    "        print(\"current pointer: \" + str(current_pointer))\n",
    "        print(\"span: \" + str(span))\n",
    "        print(\"running counter: \" + str(running_counter))\n",
    "        break\n",
    "\n",
    "    # if the next document is in the same week, merge the documents\n",
    "    # if we are at the end of the file, append the last document\n",
    "    running_counter += 1\n",
    "    if (current_pointer + running_counter == total_documents):\n",
    "        new_jsonl_document.append(jsonl_document[current_pointer])\n",
    "        break\n",
    "\n",
    "    if (jsonl_document[current_pointer][\"metadata\"][\"week\"] == jsonl_document[current_pointer + running_counter][\"metadata\"][\"week\"]):\n",
    "        span = jsonl_document[current_pointer + running_counter][\"metadata\"][\"end\"] - jsonl_document[current_pointer][\"metadata\"][\"start\"]\n",
    "        jsonl_document[current_pointer][\"text\"] += \" \" + jsonl_document[current_pointer + running_counter][\"text\"]\n",
    "        jsonl_document[current_pointer][\"metadata\"][\"end\"] = jsonl_document[current_pointer + running_counter][\"metadata\"][\"end\"]\n",
    "\n",
    "        # if the span is greater than the threshold, append the document and reset the pointer\n",
    "        if (span >= SPAN_THRESHOLD):\n",
    "            new_jsonl_document.append(jsonl_document[current_pointer])\n",
    "            span = 0\n",
    "            current_pointer += running_counter + 1\n",
    "            running_counter = 0\n",
    "            continue\n",
    "\n",
    "    # if the next document is not in the same week, append the document and reset the pointer\n",
    "    else:\n",
    "        new_jsonl_document.append(jsonl_document[current_pointer])\n",
    "        current_pointer += running_counter\n",
    "        running_counter = 0\n",
    "        span = 0\n",
    "        continue"
   ]
  },
  {
   "cell_type": "markdown",
   "id": "9b206158-89e2-4205-8722-18453b5040b2",
   "metadata": {},
   "source": [
    "**Let's look at what the new JSONL document looks like:**"
   ]
  },
  {
   "cell_type": "code",
   "execution_count": 10,
   "id": "cc48b3c9-1a89-444e-acf4-6688f6795eec",
   "metadata": {},
   "outputs": [
    {
     "name": "stdout",
     "output_type": "stream",
     "text": [
      "Total caption text in JSONL document: 4352\n",
      "\n",
      "First 5 line(s) of JSONL document:\n",
      "1: {'text': '[MUSIC PLAYING] DAVID J. MALAN: All right.', 'metadata': {'week': 'Week 0', 'youtube_id': 'IDDmrzzB14M', 'start': 3, 'end': 75}}\n",
      "2: {'text': \"This is CS50, Harvard University's introduction to the intellectual enterprises of computer science and the arts of programming. My name is David Malan, and I actually took this course myself, back in 1996. I was a sophomore at the time. I was actually concentrating in government, because a year prior, as a first year, I'd come into Harvard thinking that I liked history and constitutional law and similar classes in high school. And so when I got here, I rather gravitated toward that which was familiar. I figured, if I liked and if I were good at that particular subject\", 'metadata': {'week': 'Week 0', 'youtube_id': 'IDDmrzzB14M', 'start': 75, 'end': 108}}\n",
      "3: {'text': \"in high school, then that's presumably who I'm supposed to be here. But it wasn't until sophomore year that I got up the nerve to step foot in the CS50 classroom, and even then, it was only out of curiosity. Like I had no intention of studying computer science of even taking CS50 when I got to campus. But people were talking about it, and there was a lot of beware. And it was perhaps for the initiated only, and I didn't really ultimately what computer science was. But for me, the light bulb went off. I found that, contrary to what I'd seen in high school,\", 'metadata': {'week': 'Week 0', 'youtube_id': 'IDDmrzzB14M', 'start': 108, 'end': 138}}\n",
      "4: {'text': \"where I saw friends of mine like programming away in the computer lab, heads down, antisocially just doing whatever it was they were doing, it really wasn't that, once I got to this particular class and this particular place. It was much more about problem solving more generally and just learning how to express yourself in code, in different languages. So that you can actually solve problems of interest to you. Even if you have no intention of being a computer scientist or an engineer, but just want to be able to solve problems, analyze data do interesting things, in the arts, humanities, social sciences, physical sciences, or really any other field.\", 'metadata': {'week': 'Week 0', 'youtube_id': 'IDDmrzzB14M', 'start': 138, 'end': 170}}\n",
      "5: {'text': \"And indeed, this particular path led me to computer science, but the hope for CS50 more generally is that, indeed, you just find your way to applying principles that you'll learn over the coming months to whatever field is of interest to you. With that said, it was definitely a lot of work and not without its frustrations for me. But there was no better feeling than like banging your head proverbial against the wall for some number of hours, even days, trying to fix a bug, a mistake in your code. And then, oh my God, the rush of emotion of accomplishment of pride of exhaustion when you finally solve some problem that's\", 'metadata': {'week': 'Week 0', 'youtube_id': 'IDDmrzzB14M', 'start': 170, 'end': 202}}\n"
     ]
    }
   ],
   "source": [
    "print(f\"Total caption text in JSONL document: {len(new_jsonl_document)}\", end=\"\\n\\n\")\n",
    "\n",
    "preview_lines = 5\n",
    "print(f\"First {preview_lines} line(s) of JSONL document:\")\n",
    "for index, each in enumerate(new_jsonl_document[:preview_lines]):\n",
    "    print(f\"{index + 1}:\", each)"
   ]
  },
  {
   "cell_type": "markdown",
   "id": "d961ac6a-21e7-406a-afec-e6e015e3909f",
   "metadata": {},
   "source": [
    "**You should see that each JSON document's caption text should be longer, spanning a longer duration. This would give us a more useful and relevant lecture context in the prompt.**"
   ]
  },
  {
   "cell_type": "code",
   "execution_count": 11,
   "id": "8d8367f5-766f-47f7-b2a6-ecba3db55067",
   "metadata": {},
   "outputs": [],
   "source": [
    "# save new JSONL file\n",
    "with open('../data/processed_data/lectures_2022_merged.jsonl', 'w') as f:\n",
    "    f.write('\\n'.join(json.dumps(i) for i in new_jsonl_document))"
   ]
  },
  {
   "cell_type": "markdown",
   "id": "ed1f67b8-22cd-4375-ac3d-f3ef336a49c1",
   "metadata": {},
   "source": [
    "## Create embeddings for caption texts\n",
    "\n",
    "We are now ready to create embeddings for caption texts.\n",
    "\n",
    "**Note that we only generate embeddings for each caption text, we do not generate embeddings for metadata.**\n",
    "\n",
    "Reference: https://github.com/openai/openai-cookbook/blob/main/examples/Embedding_Wikipedia_articles_for_search.ipynb"
   ]
  },
  {
   "cell_type": "code",
   "execution_count": 12,
   "id": "34b913f9-431b-4f37-b865-29d675d5f9f4",
   "metadata": {},
   "outputs": [],
   "source": [
    "jsonl_document = []\n",
    "text_documents = [] # easier to work with OpenAI's API\n",
    "\n",
    "with open(\"../data/processed_data/lectures_2022_merged.jsonl\") as f:\n",
    "    for line in f.readlines():\n",
    "        line = json.loads(line)\n",
    "        jsonl_document.append(line)\n",
    "        text_documents.append(line[\"text\"])"
   ]
  },
  {
   "cell_type": "code",
   "execution_count": 13,
   "id": "495d6268-2201-4a46-b1c6-cdabaf5be325",
   "metadata": {},
   "outputs": [
    {
     "name": "stdout",
     "output_type": "stream",
     "text": [
      "dict_keys(['text', 'metadata'])\n"
     ]
    }
   ],
   "source": [
    "print(jsonl_document[0].keys())"
   ]
  },
  {
   "cell_type": "code",
   "execution_count": 14,
   "id": "eecf89f6-e08f-4534-bdca-e9b6bab942d9",
   "metadata": {},
   "outputs": [],
   "source": [
    "openai.api_key = os.getenv(\"OPENAI_API_KEY\")\n",
    "EMBEDDING_TOKEN_LIMIT = 8191\n",
    "EMBEDDING_MODEL = \"text-embedding-ada-002\"  # OpenAI's best embeddings as of Apr 2023\n",
    "BATCH_SIZE = 1000  # you can submit up to 2048 embedding inputs per request\n",
    "\n",
    "def num_tokens_from_string(string: str, model_name: str = \"gpt-3.5-turbo\") -> int:\n",
    "    \"\"\"Returns the number of tokens in a text string.\"\"\"\n",
    "    # https://github.com/openai/openai-cookbook/blob/main/examples/How_to_count_tokens_with_tiktoken.ipynb\n",
    "\n",
    "    encoding = tiktoken.encoding_for_model(model_name)\n",
    "    num_tokens = len(encoding.encode(string))\n",
    "    return num_tokens"
   ]
  },
  {
   "cell_type": "code",
   "execution_count": 15,
   "id": "69c08267-5738-40a3-a4c8-605f7ceb77de",
   "metadata": {},
   "outputs": [
    {
     "name": "stdout",
     "output_type": "stream",
     "text": [
      "Total tokens: 524877\n",
      "Total cost: $0.21\n",
      "Batch 0 to 999 of 4352\n",
      "Batch 1000 to 1999 of 4352\n",
      "Batch 2000 to 2999 of 4352\n",
      "Batch 3000 to 3999 of 4352\n",
      "Batch 4000 to 4999 of 4352\n",
      "Finished creating embeddings\n"
     ]
    }
   ],
   "source": [
    "# create embeddings\n",
    "embeddings = []\n",
    "\n",
    "try:\n",
    "    \n",
    "    # calculate total tokens needed and cost\n",
    "    # https://openai.com/pricing\n",
    "    total_tokens = num_tokens_from_string(\"\".join(text_documents))\n",
    "    print(f\"Total tokens: {total_tokens}\")\n",
    "    print(f\"Total cost: ${round(total_tokens * 0.0004 / 1000, 4)}\")\n",
    "    \n",
    "    # this is a rather expensive operation, proceed with caution \n",
    "    if (input(\"Continue? (y/n) \") != \"y\"):\n",
    "        raise KeyboardInterrupt\n",
    "\n",
    "    for batch_start in range(0, len(text_documents), BATCH_SIZE):\n",
    "        batch_end = batch_start + BATCH_SIZE\n",
    "        batch = text_documents[batch_start:batch_end]\n",
    "        print(f\"Batch {batch_start} to {batch_end-1} of {len(text_documents)}\")\n",
    "\n",
    "        # call OpenAI API to create embedding for a given caption text\n",
    "        response = openai.embeddings.create(model=EMBEDDING_MODEL, input=batch)\n",
    "\n",
    "        # double check embeddings are in same order as input\n",
    "        for i, be in enumerate(response.data):\n",
    "            assert i == be.index\n",
    "\n",
    "        batch_embeddings = [e.embedding for e in response.data]\n",
    "        embeddings.extend(batch_embeddings)\n",
    "\n",
    "    print(\"Finished creating embeddings\")\n",
    "            \n",
    "except KeyboardInterrupt:\n",
    "    print(\"operation aborted\")"
   ]
  },
  {
   "cell_type": "code",
   "execution_count": 16,
   "id": "8c9c02b6-d8e9-4a7c-aadf-83a8dc3995b6",
   "metadata": {},
   "outputs": [],
   "source": [
    "# save jsonl file with embeddings\n",
    "with open(\"../data/processed_data/lectures_2022_embeddings.jsonl\", \"w\") as f:\n",
    "    for i, embedding in enumerate(embeddings):\n",
    "\n",
    "        # store embeddings for a given caption text\n",
    "        jsonl_document[i][\"embedding\"] = embedding\n",
    "        f.write(json.dumps(jsonl_document[i]) + \"\\n\")"
   ]
  },
  {
   "cell_type": "markdown",
   "id": "0ff6069e-15b4-4118-86f6-a45e495e6c29",
   "metadata": {},
   "source": [
    "\n",
    "**You can take a look at what the embedding looks like for each caption text.**\n",
    "\n",
    "**Note that because we use the `text-embedding-ada-002` model, we will always get a 1536-dimensional embedding vector (i.e., there are 1536 numbers inside).**\n",
    "\n",
    "Reference: https://platform.openai.com/docs/guides/embeddings/second-generation-models"
   ]
  },
  {
   "cell_type": "code",
   "execution_count": 17,
   "id": "69a538eb-dedb-4342-9b74-930f200d7bb7",
   "metadata": {},
   "outputs": [
    {
     "name": "stdout",
     "output_type": "stream",
     "text": [
      "Total caption text in JSONL document: 4352\n"
     ]
    }
   ],
   "source": [
    "print(f\"Total caption text in JSONL document: {len(jsonl_document)}\")"
   ]
  },
  {
   "cell_type": "code",
   "execution_count": 18,
   "id": "e3d91015-9b3c-428e-a921-218d64b866e9",
   "metadata": {},
   "outputs": [
    {
     "name": "stdout",
     "output_type": "stream",
     "text": [
      "Total characters: 628 embedding size: 1536\n",
      "\n",
      "plain_text:\n",
      "AUDIENCE: [INAUDIBLE] DAVID J. MALAN: Say it again. AUDIENCE: More lightbulbs. DAVID J. MALAN: Yeah, so more light bulbs. So let me do this. Let me just grab something to put these on, so I can use a few of them at a time. And let me propose that here, instead of having just one light bulb, let me give myself maybe three in total. So all of them are initially off, and if you think of this in miniature form, in your mind's eye, this is like a computer with three transistors. Three switches representing now the number you and I know as 0. Why? They're just all off. So how does a computer go about representing the number 1?\n",
      "\n",
      "embedding:\n",
      "[-0.003996677231043577, -0.017532531172037125, 0.006546623073518276, -0.014374825172126293, -0.004406253807246685, 0.011587060987949371, -0.023517636582255363, -0.02413860894739628, -0.03469512239098549, -0.02384794130921364, 0.04087841138243675, 0.044339995831251144, -0.013192337937653065, 0.001135419588536024, 0.004865376278758049, 0.007438443601131439, 0.013740641996264458, 0.00395704060792923, 0.0012774503557011485, 0.0004118476645089686, -0.018563078716397285, 0.0030305383261293173, -0.011573848314583302, 0.007458262145519257, -0.019514353945851326, -0.0013864506036043167, 0.02339872717857361, -0.016686953604221344, -0.0011362454388290644, 0.010186572559177876, 0.021905753761529922, -0.023914001882076263, -0.0018810806795954704, -0.018166713416576385, -0.021971814334392548, 0.016184890642762184, 0.011071786284446716, -0.009162629954516888, -0.0053839534521102905, -0.018061017617583275, 0.0029116289224475622, 0.013701005838811398, 0.007960324175655842, -0.005496256984770298, -0.023993274196982384, 0.011560636572539806, 0.0007555701886303723, -0.01627737656235695, -0.015207190997898579, 0.018800897523760796, 0.0017770349513739347, 0.024416064843535423, -0.027904072776436806, -0.008072626776993275, -0.011633303016424179, -0.00043393674422986805, 0.014639068394899368, 0.013357489369809628, 0.0032518417574465275, -0.01854986697435379, -0.004914922174066305, -0.007590383756905794, -0.006797654088586569, 0.01770428940653801, -0.007649838458746672, -0.010279057547450066, -0.0004236147506162524, 0.009823237545788288, 0.0012378138490021229, -0.009895904920995235, 0.024310367181897163, 0.03353245183825493, 0.0015251782024279237, -0.011025544255971909, 0.0255390964448452, -0.003910798113793135, -0.0009818283142521977, -0.0011469803284853697, 0.013172519393265247, -0.00028736438252963126, -0.0008653962286189198, -0.01582816243171692, -0.004802618641406298, 0.006903351284563541, -0.01696440763771534, -0.0066886539570987225, 0.01235997211188078, 0.029859472066164017, -0.011772030964493752, -0.013555672019720078, -0.007530929055064917, 0.031154263764619827, 0.013185731135308743, 0.018166713416576385, 0.028723226860165596, 0.03250190243124962, -0.01287524588406086, 0.04941346123814583, 0.010523482225835323, 0.0013311246875673532, 0.013377307914197445, -0.02416503243148327, -0.022645635530352592, -0.015035433694720268, 0.014321977272629738, -0.014335189014673233, 0.011296393349766731, -0.010279057547450066, -0.003540857695043087, -0.02345157600939274, 0.004938043188303709, 0.043098051100969315, 0.025393763557076454, -0.013912400230765343, 0.006193198263645172, -0.015629980713129044, -0.0004686186439357698, -0.004376526456326246, -0.006232834421098232, -0.00020984619914088398, 0.011402090080082417, 0.021416904404759407, -0.015127918682992458, -0.008363294415175915, 0.022962726652622223, 0.012227850034832954, -0.020677024498581886, -0.015867799520492554, -0.020386356860399246, -0.013806702569127083, 0.03313608840107918, 0.0014021400129422545, -0.003266705432906747, 0.019752172753214836, -0.007623414043337107, 0.017585380002856255, 0.009268327616155148, 0.0420675054192543, -0.01596028357744217, -0.013172519393265247, 0.01675301417708397, -0.011388878338038921, -0.013806702569127083, -0.01307342853397131, 0.0003891392843797803, 0.05250510573387146, 0.006037955172359943, 0.024297155439853668, -0.043547265231609344, -0.004495435860008001, -0.008726628497242928, 0.029938744381070137, 0.005132922437041998, 0.008138688281178474, 0.02506345883011818, 0.013000761158764362, -0.03199984133243561, 0.024970974773168564, -0.001300571602769196, 0.00412219250574708, 0.0020544901490211487, 0.008270809426903725, -0.003990070894360542, -0.02506345883011818, 0.008376507088541985, 0.021733995527029037, 0.014744766056537628, -0.004726648796349764, -0.010008208453655243, -0.027058495208621025, -0.0067613208666443825, 0.03828882798552513, -0.014255915768444538, 0.025393763557076454, -0.02411218360066414, 0.012663851492106915, -0.006744805723428726, -0.003715918865054846, -0.017849622294306755, -0.005985106807202101, -0.004644072614610195, -0.010113905183970928, 0.004075950011610985, 0.01754574291408062, -0.01287524588406086, 0.007933899760246277, 0.01876126043498516, -0.009400448761880398, 0.0036828883457928896, -0.0021387177985161543, 0.015326100401580334, 0.008270809426903725, -0.0020842174999415874, -0.0016572998138144612, -0.6603963971138, 0.00023121273261494935, -0.014890099875628948, -0.026318615302443504, -0.0338759683072567, 0.0004966944688931108, 0.009175842627882957, 0.00202476279810071, 0.002255975501611829, 0.00972414668649435, -0.003521039616316557, -0.021879330277442932, 0.008310445584356785, -0.01701725646853447, -0.015947071835398674, -0.03128638491034508, -0.0028653861954808235, -0.0043732235208153725, 0.003844737308099866, -0.01348300464451313, -0.00905032642185688, 0.009109781123697758, -0.008944629691541195, -0.004353405442088842, 0.0016094057355076075, 0.009347599931061268, 0.006599471904337406, -0.0023319455794990063, -0.0072138370014727116, 0.012630821205675602, -0.0024673701263964176, -0.009413661435246468, 0.022870242595672607, -0.017823198810219765, 0.03876446560025215, -0.0044657085090875626, -0.013885975815355778, 0.022011451423168182, -0.0012452456867322326, 0.01728150062263012, -0.014824039302766323, -0.015141130425035954, 0.03242263197898865, -0.007900869473814964, -0.030493656173348427, 0.018061017617583275, -0.0004033836303278804, -0.004406253807246685, 0.027164192870259285, -0.00667544174939394, -0.004508648067712784, -0.003762161359190941, -0.012465668842196465, -0.007696080952882767, 0.023081636056303978, 0.00986948050558567, 0.042490292340517044, 0.003392220940440893, 0.002830704441294074, 0.00027064274763688445, -0.0042741321958601475, -0.03646555170416832, -0.017241863533854485, 0.006890139076858759, -0.004944649524986744, 0.007273291703313589, -0.028987469151616096, 0.001099086250178516, 0.004746466875076294, -0.019567202776670456, 0.0008513582870364189, 0.028564680367708206, -0.030678626149892807, -0.0018232775619253516, 0.007246867287904024, 0.01324518583714962, 0.043547265231609344, 0.003966949880123138, -0.0012989200185984373, 0.001205609180033207, 0.005644893739372492, -0.014559796079993248, -0.0365183986723423, -0.046982426196336746, 0.023623334243893623, 0.0091956602409482, -0.005886015482246876, -0.007894262671470642, -0.004455799702554941, 0.023134484887123108, -0.00010838096932275221, -0.007814990356564522, -0.01320554967969656, -0.03850022330880165, 0.0014095718506723642, 0.030625777319073677, -0.011005725711584091, -0.006731593515723944, 0.011732394807040691, -0.013634945265948772, -0.003752252319827676, -0.05512111261487007, -0.003263402497395873, 0.0027695982716977596, 0.010701846331357956, 0.01770428940653801, -0.01054330077022314, 0.014876887202262878, 0.01852344162762165, -0.03773391619324684, -0.00857468880712986, -0.01302057970315218, -0.016766225919127464, 0.006011530756950378, -4.2397601646371186e-05, -0.027692679315805435, 0.013859551399946213, 0.017004044726490974, -0.018827322870492935, -0.029410259798169136, 0.02034671977162361, 0.009281539358198643, 0.0034814029932022095, -0.023517636582255363, 0.01569604128599167, 0.018351685255765915, -0.00906353909522295, -0.012789366766810417, -0.00914281141012907, 0.020597750321030617, -0.004984285682439804, 0.00032555576763115823, 0.011857910081744194, -0.011441727168858051, 0.007940505631268024, 0.005519377999007702, 0.01749289408326149, -0.0134962173178792, 0.005347620230168104, -0.0057968334294855595, -0.02034671977162361, -0.004184950143098831, -0.005559014622122049, 0.0012402911670506, -0.007279898039996624, -0.018034592270851135, -0.019012292847037315, -0.004075950011610985, -0.0016556482296437025, 0.015590343624353409, 0.004531769547611475, -0.004990892019122839, -0.012908276170492172, 0.0052650440484285355, -0.011395484209060669, -0.003798494813963771, -0.011705970391631126, -0.029542380943894386, -0.021060176193714142, -0.0031032050028443336, -0.01720222644507885, 0.0341402105987072, 0.0021288085263222456, 0.0011081695556640625, -0.0010239420225843787, 0.00031791749643161893, 0.010430997237563133, 0.00982984434813261, -0.005813348572701216, -0.0121089406311512, 0.011210514232516289, -0.006923169828951359, 0.014520158991217613, 0.015352524816989899, -0.03752252086997032, 0.01235997211188078, 0.004409557208418846, 0.005113104358315468, 0.008568082936108112, -0.020465629175305367, 0.00099421467166394, 0.0016036253655329347, 0.004052828997373581, 0.007035472895950079, 0.03961004316806793, 0.024601034820079803, 0.006863715127110481, -0.014956160448491573, -0.012716700322926044, 0.005800136364996433, -0.002914931857958436, 0.03530288115143776, 0.013568883761763573, -0.013099852949380875, -0.0038315251003950834, 0.028723226860165596, 0.024812428280711174, -0.020914843305945396, 0.00018383476708550006, 0.021364055573940277, 0.01794210821390152, 0.007596989627927542, 0.020729873329401016, -0.01606598123908043, 0.010483846068382263, -0.030335109680891037, 0.02032029628753662, -0.010807543061673641, 0.02026744745671749, 0.04145974665880203, -0.005162649787962437, -0.027692679315805435, -0.007577171549201012, -0.007451655808836222, 0.007365776691585779, 0.05549105629324913, -0.009810025803744793, 0.028247589245438576, 0.007814990356564522, -0.014771190471947193, -0.013225368224084377, 0.01849701814353466, 0.05226728692650795, 0.002784461947157979, -0.007623414043337107, 0.0191840510815382, 0.018880169838666916, -0.0029677804559469223, -1.2147699635534082e-05, -0.03847379609942436, -0.006298895459622145, 0.003649858059361577, 0.0072204433381557465, 0.027190616354346275, -0.015061858110129833, -0.01831204816699028, 0.008634143508970737, 0.004089162219315767, 0.02630540169775486, 0.014057734049856663, 0.0026787645183503628, 0.027560556307435036, 0.014520158991217613, -0.015497858636081219, 0.005205589346587658, 0.027745528146624565, 0.03258117660880089, 0.008759659714996815, -0.007894262671470642, 0.019514353945851326, 0.0005421112873591483, 0.005928955040872097, 0.0013592005707323551, 0.0005586264887824655, 0.021813269704580307, 0.0029116289224475622, 0.006556532345712185, 0.020703447982668877, 0.01804780401289463, 0.012082516215741634, -0.00037634000182151794, 0.008647356182336807, -0.00048554674140177667, -0.007848020642995834, -0.010959483683109283, 0.022658847272396088, -0.010741482488811016, -0.009473116137087345, 0.00868038646876812, -0.008786083199083805, -0.0072138370014727116, -0.002756386063992977, 0.005717560648918152, -0.016739800572395325, 0.013066821731626987, 0.008554871194064617, -0.027719102799892426, 0.007451655808836222, 0.014321977272629738, 0.010232814587652683, -0.0242178812623024, -0.00953917670994997, -0.003501221304759383, 0.0095259640365839, -0.018774474039673805, -0.029040317982435226, -0.006843896582722664, 0.005037134513258934, 0.010450814850628376, 0.010318693704903126, -0.022711696103215218, 0.011184089817106724, -0.002510309685021639, 0.003877767827361822, -0.0060841976664960384, -0.01738719642162323, 0.03186772018671036, 0.0049974978901445866, 0.007517716847360134, 0.0031329323537647724, 0.00835008267313242, 0.011765425093472004, -0.01226748712360859, -0.01873483695089817, 0.012895064428448677, 0.018615927547216415, -0.011778636835515499, -0.02374224364757538, 0.024838853627443314, -0.030652200803160667, -0.029383834451436996, 0.010061056353151798, -0.005549105349928141, 0.00041824730578809977, 0.008237779140472412, -0.014810826629400253, -0.0017770349513739347, 0.010754695162177086, 0.021364055573940277, 0.012472274713218212, -0.008475597947835922, -0.029727350920438766, -0.00019663403509184718, -0.002399657852947712, 0.06833326816558838, 0.020901629701256752, -0.02493133768439293, 0.027560556307435036, -0.012947912327945232, 0.015735678374767303, -0.022936303168535233, -0.0060577732510864735, 0.03448372706770897, -0.005413680803030729, -0.006639108527451754, 0.0007113920291885734, 0.031048566102981567, -0.029383834451436996, 0.022738119587302208, 0.012333547696471214, 0.014123794622719288, -0.010774512775242329, 0.009605237282812595, -0.0160131324082613, -0.01300736702978611, 0.00295456824824214, 0.01786283403635025, 0.03258117660880089, -0.01307342853397131, -0.012194819748401642, 0.028723226860165596, 0.00041969239828176796, 0.022962726652622223, -0.008435961790382862, -0.0018001561984419823, 0.001912459614686668, 0.013806702569127083, 0.011732394807040691, -0.0021998239681124687, 0.008964447304606438, -0.0034153421875089407, 0.030784323811531067, -0.019302960485219955, -0.003732434008270502, 0.013086640276014805, 0.002693628193810582, 0.009083356708288193, -0.02466709539294243, -0.008105657994747162, -0.005559014622122049, -0.021297995001077652, 0.013509429059922695, 0.005506165791302919, -0.01820635050535202, 0.03131280839443207, -0.016739800572395325, -0.022315330803394318, -0.006064379587769508, 0.003805100917816162, -0.0029925534036010504, -0.015022221021354198, -0.0072204433381557465, 0.0017076710937544703, 0.0033509330824017525, -0.018827322870492935, -0.0009554040152579546, 0.03672979399561882, -0.0072402614168822765, -0.015009009279310703, -0.019805021584033966, 0.0040330104529857635, -0.0015871102223172784, -0.03768106922507286, 0.0003435160615481436, -0.011276574805378914, -0.022169997915625572, -0.0341402105987072, 0.004822436720132828, 0.016369860619306564, 0.01617167890071869, -0.005575529765337706, 0.00914281141012907, -0.017849622294306755, 0.00866717379540205, -0.021099813282489777, -0.0359899140894413, 0.0003350520273670554, -0.028591105714440346, 0.003990070894360542, 0.01590743474662304, -0.001691155950538814, -0.009347599931061268, -0.03982143849134445, 0.0055557116866111755, 0.000767130812164396, 0.0009273281903006136, 0.0098562678322196, -0.02701885811984539, -0.0014467310393229127, 0.029938744381070137, 0.012736517935991287, 0.0056283785961568356, 0.011930576525628567, -0.01339051965624094, 0.006715078372508287, -0.013463187031447887, -0.00895784143358469, -0.029859472066164017, -0.015894223004579544, -0.00472334586083889, 0.02087520621716976, 0.005251831840723753, -0.017426833510398865, -0.028168316930532455, -0.020333508029580116, -0.015445009805262089, 0.020254235714673996, -0.0005119710112921894, 0.01744004525244236, 0.027402011677622795, 0.016237739473581314, -0.00227909698151052, -0.022724907845258713, -0.00045788378338329494, 0.007101533934473991, -0.020994115620851517, 0.0060148341581225395, 0.003448372706770897, -0.017479682341217995, 0.027269890531897545, 0.02598831057548523, 0.0006271644961088896, 0.015088281594216824, 0.014427674002945423, 0.029172440990805626, 0.043996479362249374, -0.013192337937653065, -0.028432559221982956, -0.024548185989260674, -0.025050247088074684, 0.00021531684615183622, 0.007055291440337896, -0.03569924458861351, 0.011957000941038132, 0.010080874897539616, 0.021311206743121147, 0.002805931493639946, -0.008277415297925472, -0.018219562247395515, -0.01860271580517292, -0.014731553383171558, -0.00019622115360107273, 0.008178324438631535, 0.030202988535165787, 0.007729111239314079, 0.0042741321958601475, -0.020954478532075882, -0.007088321726769209, 0.014744766056537628, -0.03205268830060959, 0.023557273671030998, -0.013198943808674812, 0.027798375114798546, 0.03662409633398056, 0.04079913720488548, -0.014771190471947193, 0.012234455905854702, 0.02683388814330101, -0.007775353733450174, 0.00026899122167378664, 0.001286533661186695, -0.007999960333108902, -0.031048566102981567, 0.003126326482743025, -0.004802618641406298, 0.011805061250925064, -0.0019421869656071067, -0.0003798494872171432, 0.044921331107616425, 0.026450736448168755, -0.012961125001311302, 0.013793490827083588, -0.028908196836709976, -0.023266606032848358, -0.011520999483764172, 0.02029387094080448, -0.005043740384280682, 0.011719182133674622, -0.010648997500538826, -0.0058166515082120895, 0.023411940783262253, 0.0170701052993536, -0.00038418470649048686, 0.014493734575808048, 0.02630540169775486, -0.027824800461530685, 0.02585618942975998, 0.002142020734027028, 0.021245146170258522, -0.0201089009642601, -0.017558954656124115, -0.019065141677856445, 0.006440925877541304, 0.004967770539224148, 0.024918125942349434, 0.010873604565858841, -0.017241863533854485, -0.012511911801993847, -0.00012014804087812081, 0.00324523588642478, -0.030520079657435417, -0.00901069026440382, 0.005189074203372002, -0.004799315705895424, -0.007689474616199732, -0.03646555170416832, -0.03947792202234268, -0.03184129670262337, 0.010675421915948391, 0.01762501522898674, 0.006341835018247366, 0.015550707466900349, -0.007458262145519257, -0.004383132793009281, 0.011824879795312881, -0.002526824828237295, 0.025314491242170334, 0.00046655425103381276, 0.013767066411674023, 0.014097370207309723, 0.027824800461530685, -0.009241903200745583, -0.027507709339261055, -0.0003641600487753749, 0.006642411462962627, 0.03532930463552475, -0.012472274713218212, -0.01955399103462696, 0.005245225969702005, 0.008330264128744602, -0.019514353945851326, 0.020465629175305367, -0.027428435161709785, -0.007392201106995344, 0.001121381763368845, 0.0020710055250674486, -0.0005218801670707762, -0.0066358051262795925, -0.015273252502083778, -0.009023902006447315, 0.000938063079956919, 0.01622452773153782, -0.010298875160515308, -0.009096569381654263, -0.020254235714673996, -0.021707572042942047, -0.013806702569127083, 0.009770389646291733, 0.008066020905971527, -0.008805901743471622, 0.015365737490355968, 0.0017720804316923022, -0.03279257193207741, 0.012003243900835514, 0.001668860437348485, 0.010662210173904896, -0.0031758719123899937, 0.00645744102075696, 0.006094106938689947, -0.0030123714823275805, -0.013648157007992268, -0.014176643453538418, -0.02008247748017311, 0.021892542019486427, -0.021615086123347282, 0.0098562678322196, 0.008013172075152397, 0.015273252502083778, 0.028326861560344696, -0.005852985195815563, -0.014956160448491573, -0.022619210183620453, -0.02374224364757538, 0.0015276555204764009, 0.012670457363128662, 0.013489611446857452, -0.009307963773608208, -0.007015654817223549, -0.0030668717809021473, 0.0005672969273291528, -0.027322737500071526, 0.015101494267582893, 0.03791888803243637, -0.02495776303112507, -0.0002578434650786221, -0.023213757202029228, 0.013238579966127872, 0.024733155965805054, 0.005278256256133318, -0.018378108739852905, 0.011038755998015404, 0.016766225919127464, 0.009638267569243908, 0.003215508535504341, 0.01329803466796875, 0.00013387629587668926, -0.020465629175305367, 0.007834807969629765, -0.007735717110335827, -0.005195680074393749, 0.014824039302766323, -0.01225427445024252, -0.011137847788631916, -0.007365776691585779, 0.011243544518947601, 0.009803419932723045, -0.01677943766117096, -0.003537554759532213, 0.008330264128744602, 0.005839772988110781, 0.007550747133791447, -0.022658847272396088, -0.008488809689879417, 0.0050503467209637165, -0.03488009050488472, 0.028115468099713326, 0.015458222478628159, 0.021364055573940277, -0.009955359622836113, -0.023729031905531883, 0.0025780219584703445, -0.004739861004054546, -0.044419266283512115, -0.004046222660690546, 0.006890139076858759, 0.01810065284371376, -0.0015169206308200955, 0.0033426755107939243, 0.004108980298042297, 0.010477239266037941, -0.018061017617583275, 0.00862753763794899, -0.006533410865813494, 0.021852904930710793, -0.004554890561848879, -0.014995796605944633, 0.021918967366218567, 0.0028934620786458254, -0.01794210821390152, -0.012478881515562534, 0.0099223293364048, -0.02000320330262184, -0.044472116976976395, 0.00206109625287354, -0.030757898464798927, 0.014771190471947193, -0.006493774708360434, -0.012749730609357357, 0.005459923297166824, -0.01016014814376831, -0.02032029628753662, -0.011184089817106724, -0.001719231833703816, -0.0021387177985161543, 0.023041998967528343, 0.00474316393956542, 0.013522641733288765, 0.010589542798697948, 0.01849701814353466, -0.012954519130289555, -0.03474796935915947, 0.004270829260349274, 0.024521760642528534, 0.005403771530836821, 0.0021502783056348562, 0.0054566203616559505, -0.011296393349766731, -0.004766285419464111, -0.00441286014392972, -0.015233615413308144, -0.006041258107870817, 0.022539937868714333, -0.013793490827083588, -0.00928814522922039, -0.001976868836209178, 0.008455779403448105, 0.011230332776904106, -0.002013202290982008, 0.009737358428537846, -0.023174121975898743, 0.006909957621246576, 0.011065180413424969, 0.007583777420222759, -0.013423549942672253, -0.016343437135219574, 0.0004900884232483804, 0.00200494471937418, 0.004637466743588448, -0.01921047456562519, 0.012485487386584282, 0.018113866448402405, -0.004974376875907183, 0.0017060196259990335, 0.0015829814365133643, -0.00022398732835426927, 0.01913120225071907, 0.00968451052904129, -0.0024624154902994633, 0.012571366503834724, 0.0018909898353740573, -0.03279257193207741, 0.012478881515562534, 0.009737358428537846, -0.0127695482224226, 0.009459903463721275, 0.020095689222216606, -0.011659727431833744, -0.03374384716153145, 0.005714257247745991, -0.012049485929310322, -0.016581255942583084, -0.04056131839752197, 0.028855348005890846, 0.003973555751144886, -0.024653883650898933, 0.006450835149735212, -0.008132081478834152, -0.00614695530384779, -0.005757196806371212, -0.028115468099713326, 0.014652281068265438, -0.01820635050535202, 0.03144492954015732, 0.009658086113631725, -0.02408576011657715, -0.014876887202262878, 0.005301377736032009, 0.03667694330215454, -0.009651480242609978, -0.0046638911589980125, 0.22133003175258636, -0.0035639789421111345, -0.01630380004644394, 0.05977179482579231, -0.014203067868947983, 0.014084158465266228, 0.02696600928902626, -0.014084158465266228, 0.002979341195896268, 0.009327782317996025, -0.03596348688006401, 0.005919045768678188, -0.02469351887702942, -0.005215498618781567, 0.010113905183970928, 0.01722865179181099, -0.029013894498348236, -0.047880854457616806, -0.030890019610524178, 0.0017522621201351285, 0.023768668994307518, -0.00891820527613163, -0.015656404197216034, -0.027745528146624565, 0.022196421399712563, 0.0061766826547682285, -6.33254530839622e-05, 0.004604436457157135, 0.02577691525220871, 0.0033806604333221912, -0.024759579449892044, -0.01714937761425972, -0.006619289983063936, 0.009268327616155148, -0.009321175515651703, -0.003271660069003701, 0.009836450219154358, -0.019540779292583466, 0.031101414933800697, 0.017928894609212875, 0.015920648351311684, -6.446086626965553e-05, -0.023015575483441353, -0.013978460803627968, 0.014084158465266228, 0.024495337158441544, -0.010754695162177086, -0.021113025024533272, -0.0016994135221466422, 0.004885194823145866, -0.02039956860244274, -0.01989750750362873, 0.03688833862543106, 0.03197341784834862, -0.012247668579220772, -0.010265844874083996, -0.00035982480039820075, -0.00621962221339345, 0.007055291440337896, 0.013119670562446117, -0.009307963773608208, 0.025525884702801704, 0.0017340955091640353, 0.022857028990983963, 0.009387237019836903, 0.0009050326771102846, -0.0328189954161644, 0.046586062759160995, 0.012029668316245079, -0.044445693492889404, -0.029568804427981377, 0.0022229452151805162, -0.01815350167453289, 0.00815190002322197, -0.003844737308099866, -0.0007502027438022196, 0.046216122806072235, 0.003993374295532703, 0.007735717110335827, -0.006609381176531315, -0.030942868441343307, -0.02508988417685032, -0.013701005838811398, 0.002472324762493372, -0.007491292431950569, -0.027771951630711555, 0.02477279305458069, -0.004974376875907183, 0.0058959247544407845, -0.0067348964512348175, 0.000436826900113374, -0.021337632089853287, -0.0021172480192035437, 0.005605257116258144, 0.0011164271272718906, -0.0005520203849300742, 0.011639908887445927, 0.0095920255407691, -0.012710093520581722, 0.002214687643572688, -0.02540697529911995, 0.008066020905971527, 0.028908196836709976, -0.0012254274915903807, 0.015207190997898579, -0.00016381009481847286, 0.018325259909033775, 0.012617608532309532, 0.012326941825449467, -0.019725749269127846, 0.018061017617583275, -0.005813348572701216, 0.010133723728358746, -0.001475632656365633, 0.0102526331320405, 0.003071826184168458, 0.01034511812031269, -0.012571366503834724, 0.012340153567492962, -0.017664652317762375, -0.0028653861954808235, -0.0025086579844355583, -0.0031296294182538986, 0.016871923580765724, -0.01588101126253605, -0.027798375114798546, -0.029674502089619637, 0.021311206743121147, -0.0012766245054081082, -0.01915762573480606, 0.04103695601224899, -0.006196501199156046, 0.007834807969629765, -0.004396345000714064, -0.010774512775242329, -0.0020544901490211487, 0.006163470912724733, -0.012987549416720867, -0.007114746142178774, -0.0036696763709187508, -0.02516915649175644, -0.0016795953270047903, -0.008799295872449875, -0.00833686999976635, 0.010226208716630936, -0.043441567569971085, 0.023266606032848358, -0.0035837972536683083, 0.0070949275977909565, -0.03374384716153145, 0.0008967751055024564, 0.014731553383171558, 0.01196360681205988, -0.020069263875484467, 0.01212215330451727, -0.008739841170608997, -0.0028835530392825603, -0.01852344162762165, 0.012379789724946022, 0.017109742388129234, -0.01685870997607708, -0.019355807453393936, 0.008753052912652493, 0.001264238147996366, -0.011620091274380684, -0.021099813282489777, -0.1682700216770172, 0.01566961593925953, 0.03546142578125, -0.028617529198527336, 0.03831525146961212, -0.007834807969629765, 0.02339872717857361, 0.010338512249290943, 0.0019735656678676605, -0.01249209325760603, -0.013099852949380875, 0.023266606032848358, -0.01593386009335518, -0.01749289408326149, -0.00897105410695076, -0.008310445584356785, -0.030070867389440536, 0.0359899140894413, 0.0351971834897995, -0.004848861135542393, 0.046480365097522736, -0.003271660069003701, 0.0008129604393616319, -0.023200545459985733, 0.001646564924158156, 0.0014128749025985599, 0.0013732383958995342, 0.003068523248657584, 0.010893422178924084, -0.01958041451871395, -0.006325319409370422, -0.014203067868947983, 0.027877649292349815, 0.00844256766140461, 0.03593706339597702, -0.01181827299296856, -0.006325319409370422, 0.0021965207997709513, -0.014639068394899368, -0.0091956602409482, 0.011527606286108494, 0.011666333302855492, -0.005314589478075504, -0.000258669228060171, -0.018140289932489395, 0.011395484209060669, 0.019250111654400826, -0.0099223293364048, -0.002160187577828765, -0.003530948655679822, 0.02540697529911995, -0.029806623235344887, -0.0052386196330189705, 0.0012634124141186476, -0.011051968671381474, -0.005205589346587658, -0.015431798063218594, 0.015273252502083778, -0.007055291440337896, -0.002832355909049511, 0.008330264128744602, -0.02508988417685032, 0.011990031227469444, -0.013938824646174908, -0.007246867287904024, 0.0030371444299817085, 0.007055291440337896, -0.01580173894762993, -0.02471994422376156, -0.004772891290485859, -0.007187412586063147, -0.03355887532234192, -0.012624215334653854, -0.030757898464798927, 0.002379839541390538, 0.004188253544270992, -0.028828924521803856, 0.012511911801993847, -0.029674502089619637, 0.00645744102075696, 0.016713377088308334, 0.02000320330262184, -0.019963568076491356, 0.010080874897539616, -0.011104816570878029, 0.004568102769553661, 0.0049512553960084915, 0.022447451949119568, -0.021099813282489777, -0.0011841395171359181, 0.028987469151616096, -0.022698484361171722, -0.02408576011657715, -0.01720222644507885, 0.004653981886804104, 0.003438463667407632, 0.013489611446857452, -0.01590743474662304, 0.030176563188433647, -0.007002442609518766, -0.013912400230765343, 0.006863715127110481, -0.020359931513667107, 0.010285663418471813, 0.018325259909033775, -0.00013387629587668926, -0.028062619268894196, 0.010754695162177086, 0.028511831536889076, 0.010748088359832764, -0.012115546502172947, 0.0011180787114426494, 0.023491213098168373, 0.045529089868068695, 0.017189014703035355, 0.004713436588644981, 0.006133743561804295, 0.0013344277394935489, 0.011864515952765942, 0.03997998312115669, 0.0492284931242466, -0.015339313074946404, -0.004739861004054546, -0.0014921477995812893, -0.0009810025803744793, -0.018906595185399055, -0.11838091909885406, -0.029780199751257896, -4.17008668591734e-05, 0.014004885219037533, 0.007332746405154467, 0.03688833862543106, -0.006586259696632624, 0.015814950689673424, -0.023821517825126648, 0.03488009050488472, -0.025076672434806824, -0.027613405138254166, -0.005592044908553362, -0.002355066826567054, -0.012558153830468655, -0.02664891816675663, 0.0066886539570987225, 0.009876086376607418, -0.004720042459666729, 0.013634945265948772, -0.004369920585304499, -0.014995796605944633, 0.0023088243324309587, -0.027666253969073296, -0.015365737490355968, 0.009367418475449085, -0.023213757202029228, 0.005763803143054247, 0.01987108215689659, 0.007260079495608807, 0.002023111330345273, -0.029621653258800507, -0.02519558183848858, -0.014612643979489803, 0.01034511812031269, 0.006047864444553852, -0.008290627971291542, -0.020386356860399246, 0.010312087833881378, -0.027613405138254166, -0.013912400230765343, -0.0036102216690778732, 0.012188213877379894, -0.013159307651221752, 0.016211315989494324, -0.010536693967878819, -0.020280659198760986, 0.02416503243148327, -0.019805021584033966, -0.02598831057548523, -0.021681148558855057, 0.004459102638065815, -0.021628299728035927, 0.005975197535008192, -0.0019933839794248343, -0.011990031227469444, 0.028934622183442116, 0.014335189014673233, -0.024178246036171913, 0.003023932222276926, 0.015167554840445518, 0.009334388189017773, 0.005836470052599907, 0.010034631937742233, 0.011626697145402431, -0.005307983607053757, -0.015405373647809029, -0.012908276170492172, 0.008951235562562943, -0.044577814638614655, -0.00815190002322197, 0.015841374173760414, 0.0017440045485273004, 0.030678626149892807, -0.017004044726490974, 0.00882572028785944, -0.022156786173582077, -0.017664652317762375, -0.0023781880736351013, -0.011058574542403221, -0.005350923165678978, -0.018457381054759026, 0.015709253028035164, 0.013859551399946213, 0.003218811471015215, 0.02403291128575802, 0.0012378138490021229, -0.0013534202007576823, 0.022579574957489967, -0.0338759683072567, -0.0005916568334214389, 0.021337632089853287, 0.0010982603998854756, 0.0011370711727067828, -0.030308686196804047, 0.014824039302766323, 0.006639108527451754, 0.009988389909267426, 0.02435000240802765, 0.0005181642482057214, -0.02477279305458069, -0.031154263764619827, -0.03762821853160858, 0.014652281068265438, -0.024944549426436424, -0.01738719642162323, 0.0051659527234733105, 0.015207190997898579, 0.0035837972536683083, -0.011210514232516289, -0.006876927334815264, 0.0029314470011740923, 0.013674581423401833, 0.014044521376490593, -0.03752252086997032, 0.00887856911867857, -0.019567202776670456, -0.0164094977080822, 0.014480522833764553, 0.008713416755199432, 0.012518517673015594, 0.0066820476204156876, -0.004984285682439804, -0.001902550458908081, -0.013899187557399273, 0.03588421642780304, -0.003910798113793135, -0.019065141677856445, -0.006810866296291351, 0.002824098337441683, -0.01712295413017273, -0.00961844902485609, 0.0022378088906407356, -0.020941266790032387, 0.0030553110409528017, 0.020518478006124496, -0.0055524082854390144, 0.005179164931178093, -0.00873323529958725, -0.00016835176211316139, 0.023544061928987503, 0.01714937761425972, -0.020769508555531502, -0.03778676688671112, 0.011296393349766731, -0.006976018194109201, -0.01580173894762993, -0.005585439037531614, -0.023966850712895393, 0.010761301033198833, 0.006797654088586569, 0.018483806401491165, 0.007867839187383652, 0.013337671756744385, -0.003109811106696725, -0.01849701814353466, -0.025842977687716484, -0.01899907924234867, 0.01617167890071869, -0.012227850034832954, 0.004336890298873186, -0.020254235714673996, 0.023306243121623993, 0.011157665401697159, 0.009189054369926453, -0.0017225347692146897, 0.0032386297825723886, -0.004554890561848879, 0.0059884097427129745, 0.0098562678322196, 0.0033790089655667543, -0.05210874229669571, 0.0019603536929935217, 0.011699363589286804, 0.01910477690398693, 0.017479682341217995, 0.027507709339261055, -0.012326941825449467, -0.01934259571135044, 0.0011114726075902581, -0.002568112686276436, 0.009968571364879608, 0.021456541493535042, -0.004947952460497618, 0.00012850886560045183, 0.005139528773725033, 0.021852904930710793, 0.005763803143054247, 0.007788565941154957, 0.013542459346354008, 0.006133743561804295, -0.0010668815812096, -0.013833126984536648, 0.017083317041397095, -0.006652320269495249, -0.01936902105808258, 0.010589542798697948, 0.028538256883621216, 0.011045361869037151, 0.007405413314700127, -0.00016494550800416619, 0.013819915242493153, 0.010721664875745773, 0.0009471464436501265, 0.004241101909428835, -0.015365737490355968, -0.03382311761379242, 0.022394604980945587, 0.0005639938754029572, -0.027719102799892426, -0.005116407293826342, 0.030493656173348427, -0.017611803486943245, -0.0012906624469906092, 0.021654723212122917, 0.003402130212634802, -0.029251713305711746, 0.030467230826616287, -0.018140289932489395, -0.01633022539317608, -0.03194699436426163, 0.009876086376607418, -0.007907475344836712, 0.004221283830702305, 0.0007460738997906446, -0.022962726652622223, 0.03461584821343422, 0.017453256994485855, -0.003927313257008791, -0.015762101858854294, 0.016713377088308334, 0.002473976230248809, 0.017426833510398865, 0.015022221021354198, -0.02511630766093731, -0.02374224364757538, -0.005344316828995943, -0.029806623235344887, -0.021615086123347282, 0.02686031349003315, -0.0091956602409482, 0.061251554638147354, 0.024891702458262444, -0.006388077512383461, 0.028089042752981186, -0.00967129785567522, 0.03495936468243599, 0.015524283051490784, -0.013271610252559185, -0.005208892282098532, 0.008455779403448105, 0.0407462902367115, 0.005132922437041998, -0.015709253028035164, -0.02047884091734886, 0.004891800694167614, 0.02485206536948681, -0.029119592159986496, 0.01921047456562519, -0.012842215597629547, -0.014308764599263668, 0.027402011677622795, -0.02398006245493889, 0.015590343624353409, -0.013212155550718307, -0.014282340183854103, -0.02551267296075821, 0.03881731256842613, 0.003540857695043087, -0.01955399103462696, -0.01741362176835537, -0.018430957570672035, -0.0011486317962408066, -0.02464067004621029, -0.02000320330262184, -0.009387237019836903, -0.007451655808836222, 0.014863675460219383, -0.007709293160587549, 0.012604396790266037, 0.011976819485425949, 0.0012518517905846238, 0.030731474980711937, -0.012749730609357357, -0.014163430780172348, 0.023372303694486618, 0.002217990579083562, -0.010701846331357956, -0.014018096961081028, -0.012227850034832954]\n",
      "\n",
      "metadata:\n",
      "{'week': 'Week 0', 'youtube_id': 'IDDmrzzB14M', 'start': 1319, 'end': 1350}\n"
     ]
    }
   ],
   "source": [
    "preview_line = 42\n",
    "json_doc = jsonl_document[preview_line-1]\n",
    "\n",
    "print(f\"Total characters: {len(json_doc['text'])}\", f\"embedding size: {len(json_doc['embedding'])}\\n\")\n",
    "print(f\"plain_text:\\n{json_doc['text']}\\n\")\n",
    "print(f\"embedding:\\n{json_doc['embedding']}\\n\")\n",
    "print(f\"metadata:\\n{json_doc['metadata']}\")"
   ]
  }
 ],
 "metadata": {
  "kernelspec": {
   "display_name": "Python 3 (ipykernel)",
   "language": "python",
   "name": "python3"
  },
  "language_info": {
   "codemirror_mode": {
    "name": "ipython",
    "version": 3
   },
   "file_extension": ".py",
   "mimetype": "text/x-python",
   "name": "python",
   "nbconvert_exporter": "python",
   "pygments_lexer": "ipython3",
   "version": "3.10.13"
  }
 },
 "nbformat": 4,
 "nbformat_minor": 5
}
